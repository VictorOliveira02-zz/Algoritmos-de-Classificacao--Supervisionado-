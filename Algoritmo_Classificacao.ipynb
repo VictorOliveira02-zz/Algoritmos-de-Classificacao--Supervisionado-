{
  "nbformat": 4,
  "nbformat_minor": 0,
  "metadata": {
    "colab": {
      "name": "6954_Solucao_SIA020.ipynb",
      "provenance": []
    },
    "kernelspec": {
      "name": "python3",
      "display_name": "Python 3"
    }
  },
  "cells": [
    {
      "cell_type": "code",
      "metadata": {
        "id": "sEP07ZOpdHM4"
      },
      "source": [
        "import pandas as pd\n",
        "import numpy as np\n",
        "import matplotlib.pyplot as plt\n",
        "from sklearn import linear_model\n",
        "from scipy.stats import gaussian_kde\n",
        "from sklearn.model_selection import train_test_split\n",
        "from sklearn.neighbors import KNeighborsClassifier\n",
        "from sklearn import preprocessing\n",
        "from sklearn import utils\n",
        "from sklearn.neighbors import KNeighborsClassifier\n",
        "from sklearn.metrics import accuracy_score\n",
        "from sklearn.tree import DecisionTreeClassifier\n",
        "from sklearn.feature_selection import SelectKBest\n",
        "from sklearn.ensemble import ExtraTreesClassifier\n",
        "from sklearn.metrics import classification_report"
      ],
      "execution_count": 1,
      "outputs": []
    },
    {
      "cell_type": "code",
      "metadata": {
        "id": "fitCAX0xiZPR",
        "outputId": "ec54c756-e873-4578-c05d-52df6527db6f",
        "colab": {
          "base_uri": "https://localhost:8080/",
          "height": 51
        }
      },
      "source": [
        "from google.colab import drive\n",
        "drive.mount('/gdrive')\n",
        "%cd /gdrive"
      ],
      "execution_count": 2,
      "outputs": [
        {
          "output_type": "stream",
          "text": [
            "Mounted at /gdrive\n",
            "/gdrive\n"
          ],
          "name": "stdout"
        }
      ]
    },
    {
      "cell_type": "code",
      "metadata": {
        "id": "W8WJY2mVjl58"
      },
      "source": [
        "# Leitura do Arquivo CSV\n",
        "csv_x = pd.read_csv('/gdrive/My Drive/Colab Notebooks/X.csv', sep=',', header=None) # Conjuntos de dados para o classificador.\n",
        "csv_y = pd.read_csv('/gdrive/My Drive/Colab Notebooks/Y.csv', sep=',',  header=None) # O rótulo para a previsão do resultado em relação aos frames."
      ],
      "execution_count": 3,
      "outputs": []
    },
    {
      "cell_type": "code",
      "metadata": {
        "id": "M11vJ9IRlSue"
      },
      "source": [
        "# Remoção do cabeçalho do CSV, para tratar colunas como matrizes e ter um melhor uso dos arquivos. \n",
        "new_header = csv_x.iloc[0]\n",
        "csv_x = csv_x[1:]\n",
        "csv_x.columns = new_header\n",
        "\n",
        "new_header = csv_y.iloc[0]\n",
        "csv_y = csv_y[1:]\n",
        "csv_y.columns = new_header"
      ],
      "execution_count": 4,
      "outputs": []
    },
    {
      "cell_type": "code",
      "metadata": {
        "id": "uqV9JLoTmChH",
        "outputId": "d70c1aa3-74ce-42d1-c664-9c0bfd92352c",
        "colab": {
          "base_uri": "https://localhost:8080/",
          "height": 1000
        }
      },
      "source": [
        "# Demonstração de estatisticas descritivas dentro do DataSet.\n",
        "for columns in csv_x.columns:\n",
        "    # print(\"Coluna '\"+columns+\"':\\n%s \" % csv_x[columns].astype(float).describe())\n",
        "    print(\"Column '\" + columns + \"':\\n\")\n",
        "    print(\"Mean: %0.2f\" % csv_x[columns].astype(float).mean())\n",
        "    print(\"Maximum: %0.f\" % csv_x[columns].astype(float).max())\n",
        "    print(\"Minimum: %0.f\" % csv_x[columns].astype(float).min())\n",
        "    print(\"25 Percentil %0.2f\" % csv_x[columns].astype(float).quantile(.25))\n",
        "    print(\"90 Percentil %0.2f\" % csv_x[columns].astype(float).quantile(.90))\n",
        "    print(\"Standard Deviation: %0.2f\" % csv_x[columns].astype(float).std())\n",
        "    print(\"\\n\")"
      ],
      "execution_count": 5,
      "outputs": [
        {
          "output_type": "stream",
          "text": [
            "Column 'TimeStamp':\n",
            "\n",
            "Mean: 1409266578.50\n",
            "Maximum: 1409268378\n",
            "Minimum: 1409264779\n",
            "25 Percentil 1409265678.75\n",
            "90 Percentil 1409268018.10\n",
            "Standard Deviation: 1039.37\n",
            "\n",
            "\n",
            "Column 'all_..idle':\n",
            "\n",
            "Mean: 9.06\n",
            "Maximum: 70\n",
            "Minimum: 0\n",
            "25 Percentil 0.00\n",
            "90 Percentil 38.62\n",
            "Standard Deviation: 16.12\n",
            "\n",
            "\n",
            "Column 'X..memused':\n",
            "\n",
            "Mean: 89.14\n",
            "Maximum: 98\n",
            "Minimum: 73\n",
            "25 Percentil 82.97\n",
            "90 Percentil 96.77\n",
            "Standard Deviation: 8.18\n",
            "\n",
            "\n",
            "Column 'proc.s':\n",
            "\n",
            "Mean: 7.68\n",
            "Maximum: 48\n",
            "Minimum: 0\n",
            "25 Percentil 0.00\n",
            "90 Percentil 20.00\n",
            "Standard Deviation: 8.53\n",
            "\n",
            "\n",
            "Column 'cswch.s':\n",
            "\n",
            "Mean: 54045.87\n",
            "Maximum: 83880\n",
            "Minimum: 11398\n",
            "25 Percentil 31302.00\n",
            "90 Percentil 72135.10\n",
            "Standard Deviation: 19497.81\n",
            "\n",
            "\n",
            "Column 'file.nr':\n",
            "\n",
            "Mean: 2656.33\n",
            "Maximum: 2976\n",
            "Minimum: 2304\n",
            "25 Percentil 2496.00\n",
            "90 Percentil 2880.00\n",
            "Standard Deviation: 196.11\n",
            "\n",
            "\n",
            "Column 'sum_intr.s':\n",
            "\n",
            "Mean: 19978.04\n",
            "Maximum: 35536\n",
            "Minimum: 10393\n",
            "25 Percentil 16678.00\n",
            "90 Percentil 28228.40\n",
            "Standard Deviation: 4797.27\n",
            "\n",
            "\n",
            "Column 'ldavg.1':\n",
            "\n",
            "Mean: 75.88\n",
            "Maximum: 147\n",
            "Minimum: 11\n",
            "25 Percentil 28.20\n",
            "90 Percentil 127.99\n",
            "Standard Deviation: 43.86\n",
            "\n",
            "\n",
            "Column 'tcpsck':\n",
            "\n",
            "Mean: 49.00\n",
            "Maximum: 87\n",
            "Minimum: 21\n",
            "25 Percentil 34.00\n",
            "90 Percentil 71.00\n",
            "Standard Deviation: 15.87\n",
            "\n",
            "\n",
            "Column 'pgfree.s':\n",
            "\n",
            "Mean: 72872.15\n",
            "Maximum: 145874\n",
            "Minimum: 15928\n",
            "25 Percentil 61601.75\n",
            "90 Percentil 97532.50\n",
            "Standard Deviation: 19504.32\n",
            "\n",
            "\n"
          ],
          "name": "stdout"
        }
      ]
    },
    {
      "cell_type": "code",
      "metadata": {
        "id": "gBXbrppGqa2a",
        "outputId": "48c72d97-3d68-48db-8aff-806818237c51",
        "colab": {
          "base_uri": "https://localhost:8080/",
          "height": 34
        }
      },
      "source": [
        "print(\"Number of Observations with memory usage (X_memused) larger than 80%%: %.d\" % csv_x[csv_x['X..memused'].astype(float) > 80]['X..memused'].count())"
      ],
      "execution_count": 6,
      "outputs": [
        {
          "output_type": "stream",
          "text": [
            "Number of Observations with memory usage (X_memused) larger than 80%: 2875\n"
          ],
          "name": "stdout"
        }
      ]
    },
    {
      "cell_type": "code",
      "metadata": {
        "id": "BV6sjVIlq4R-",
        "outputId": "bdaa941f-9731-4948-a375-691d1f93cfb4",
        "colab": {
          "base_uri": "https://localhost:8080/",
          "height": 34
        }
      },
      "source": [
        "print(\"The minimum memory utilization for observations with CPU idle time lower than 20%%: %0.2f (X..memused)\" %csv_x[csv_x['all_..idle'].astype(float) < 20]['X..memused'].astype(float).min())"
      ],
      "execution_count": 7,
      "outputs": [
        {
          "output_type": "stream",
          "text": [
            "The minimum memory utilization for observations with CPU idle time lower than 20%: 73.03 (X..memused)\n"
          ],
          "name": "stdout"
        }
      ]
    },
    {
      "cell_type": "code",
      "metadata": {
        "id": "ES6P2C7HrKzj",
        "outputId": "51e13380-ba33-4b80-ca98-1e1bdf2d9464",
        "colab": {
          "base_uri": "https://localhost:8080/",
          "height": 298
        }
      },
      "source": [
        "# Demonstração gráfica do DataSet\n",
        "import matplotlib.pyplot as plt\n",
        "\n",
        "cpu = np.array(csv_x['all_..idle'])\n",
        "memory = np.array(csv_x['X..memused'])\n",
        "\n",
        "plt.plot(cpu, label='CPU')\n",
        "plt.plot(memory, label='Memory')\n",
        "legend = plt.legend(loc='lower left', shadow=True)\n",
        "plt.title(\"CPU and Memory\")\n",
        "plt.ylabel('CPU x Memory')\n",
        "plt.show()\n",
        "\n",
        "plt.clf()"
      ],
      "execution_count": 8,
      "outputs": [
        {
          "output_type": "display_data",
          "data": {
            "image/png": "[encoded data removed]",
            "text/plain": [
              "<Figure size 432x288 with 1 Axes>"
            ]
          },
          "metadata": {
            "tags": [],
            "needs_background": "light"
          }
        },
        {
          "output_type": "display_data",
          "data": {
            "text/plain": [
              "<Figure size 432x288 with 0 Axes>"
            ]
          },
          "metadata": {
            "tags": []
          }
        }
      ]
    },
    {
      "cell_type": "code",
      "metadata": {
        "id": "jswamKJZrwYJ",
        "outputId": "3689912e-e5eb-493b-ba97-ac59875a8dba",
        "colab": {
          "base_uri": "https://localhost:8080/",
          "height": 312
        }
      },
      "source": [
        "# Histograma para utilização da CPU\n",
        "plt.hist(cpu.astype(float), 100, density=True, facecolor='green', alpha=0.75)\n",
        "plt.axis([0, 100, 0, 0.03])\n",
        "plt.xlabel('% CPU Usage')\n",
        "plt.title(\"Histogram\")\n",
        "plt.show()\n",
        "\n",
        "plt.clf()"
      ],
      "execution_count": 9,
      "outputs": [
        {
          "output_type": "display_data",
          "data": {
            "image/png": "[encoded data removed]",
            "text/plain": [
              "<Figure size 432x288 with 1 Axes>"
            ]
          },
          "metadata": {
            "tags": [],
            "needs_background": "light"
          }
        },
        {
          "output_type": "display_data",
          "data": {
            "text/plain": [
              "<Figure size 432x288 with 0 Axes>"
            ]
          },
          "metadata": {
            "tags": []
          }
        }
      ]
    },
    {
      "cell_type": "code",
      "metadata": {
        "id": "ll-1QJcBsVjy",
        "outputId": "6708f785-fcca-4ecd-dec1-8a442110ef3a",
        "colab": {
          "base_uri": "https://localhost:8080/",
          "height": 312
        }
      },
      "source": [
        "# Histograma da utilização de memória\n",
        "plt.hist(memory.astype(float), 50, density=True, facecolor='green', alpha=0.75)\n",
        "plt.axis([0, 100, 0, 0.10])\n",
        "plt.xlabel('% Memory Usage')\n",
        "plt.title(\"Histogram\")\n",
        "plt.show()\n",
        "\n",
        "plt.clf()"
      ],
      "execution_count": 10,
      "outputs": [
        {
          "output_type": "display_data",
          "data": {
            "image/png": "[encoded data removed]",
            "text/plain": [
              "<Figure size 432x288 with 1 Axes>"
            ]
          },
          "metadata": {
            "tags": [],
            "needs_background": "light"
          }
        },
        {
          "output_type": "display_data",
          "data": {
            "text/plain": [
              "<Figure size 432x288 with 0 Axes>"
            ]
          },
          "metadata": {
            "tags": []
          }
        }
      ]
    },
    {
      "cell_type": "code",
      "metadata": {
        "id": "l_aGjA5ZsdNX"
      },
      "source": [
        "# Configuração preliminar: Transformar os dados da coluna CSV (Númericos) para float. \n",
        "for columns in csv_x.columns:\n",
        "    csv_x[columns] = csv_x[columns].astype(float)\n",
        "\n",
        "for columns in csv_y.columns:\n",
        "    csv_y[columns] = csv_y[columns].astype(float)"
      ],
      "execution_count": 11,
      "outputs": []
    },
    {
      "cell_type": "code",
      "metadata": {
        "id": "X41-_JE7tCsI"
      },
      "source": [
        "# Carregar os calores para dentro do DataFrame(Algoritmos Atuam)\n",
        "# Transforma o arquivo em DataFrame\n",
        "csv_x = pd.DataFrame(csv_x)\n",
        "csv_y = pd.DataFrame(csv_y)"
      ],
      "execution_count": 12,
      "outputs": []
    },
    {
      "cell_type": "code",
      "metadata": {
        "id": "hIEbbUWNtW8p"
      },
      "source": [
        "# Separação do modelo de Aprendizado.\n",
        "# 70% Destinado ao Treino      #30% Destinado ao teste\n",
        "x_train, x_test, y_train, y_test = train_test_split(csv_x, csv_y, test_size=0.30)"
      ],
      "execution_count": 13,
      "outputs": []
    },
    {
      "cell_type": "code",
      "metadata": {
        "id": "Az9OTxqSwE5w"
      },
      "source": [
        "# Setar novamente a configuração do DataFrame para não perder a dimensão.\n",
        "x_train = pd.DataFrame(x_train, columns=['TimeStamp','all_..idle','X..memused','proc.s','cswch.s','file.nr','sum_intr.s','ldavg.1','tcpsck','pgfree.s'])\n",
        "x_test = pd.DataFrame(x_test, columns=['TimeStamp','all_..idle','X..memused','proc.s','cswch.s','file.nr','sum_intr.s','ldavg.1','tcpsck','pgfree.s'])\n",
        "y_train = pd.DataFrame(y_train, columns=['TimeStamp','DispFrames'])\n",
        "y_test = pd.DataFrame(y_test, columns=['TimeStamp','DispFrames'])\n",
        "\n",
        "x_train_bkp = x_train\n",
        "x_test_bkp = x_test\n",
        "y_train_bkp = y_train\n",
        "y_test_bkp = y_test"
      ],
      "execution_count": 14,
      "outputs": []
    },
    {
      "cell_type": "code",
      "metadata": {
        "id": "7xR8s7T-xEbt",
        "outputId": "ddec5226-b879-4bda-d154-8ced6658076b",
        "colab": {
          "base_uri": "https://localhost:8080/",
          "height": 34
        }
      },
      "source": [
        "# Classificação utilizando o Regressor Linear. \n",
        "regr = linear_model.LinearRegression()\n",
        "regr.fit(x_train.iloc[:, x_train.columns != \"TimeStamp\"], y_train.iloc[:, y_train.columns != \"TimeStamp\"])"
      ],
      "execution_count": 15,
      "outputs": [
        {
          "output_type": "execute_result",
          "data": {
            "text/plain": [
              "LinearRegression(copy_X=True, fit_intercept=True, n_jobs=None, normalize=False)"
            ]
          },
          "metadata": {
            "tags": []
          },
          "execution_count": 15
        }
      ]
    },
    {
      "cell_type": "code",
      "metadata": {
        "id": "xoTxKQuTyVLu",
        "outputId": "bd601c13-7a71-4267-ce01-98963b892a66",
        "colab": {
          "base_uri": "https://localhost:8080/",
          "height": 136
        }
      },
      "source": [
        "# Predição.\n",
        "y_pred = regr.predict(x_test.iloc[:, x_test.columns != \"TimeStamp\"])\n",
        "print(y_pred)"
      ],
      "execution_count": 16,
      "outputs": [
        {
          "output_type": "stream",
          "text": [
            "[[24.05099463]\n",
            " [14.46072479]\n",
            " [12.78561903]\n",
            " ...\n",
            " [23.31681405]\n",
            " [17.63975585]\n",
            " [20.49580078]]\n"
          ],
          "name": "stdout"
        }
      ]
    },
    {
      "cell_type": "code",
      "metadata": {
        "id": "Fdn78T63zY4h",
        "outputId": "2295ebee-3cc9-4599-a498-d2b24224f456",
        "colab": {
          "base_uri": "https://localhost:8080/",
          "height": 85
        }
      },
      "source": [
        "# Exibir coeficientes de regressão.\n",
        "print(\"Coefficients: \")\n",
        "print(regr.coef_)"
      ],
      "execution_count": 17,
      "outputs": [
        {
          "output_type": "stream",
          "text": [
            "Coefficients: \n",
            "[[-9.41760085e-02 -8.16542627e-02 -9.85459667e-03 -9.63055830e-05\n",
            "  -3.06952243e-03  1.41369001e-05 -6.50964374e-02 -5.64570790e-02\n",
            "  -1.94965058e-05]]\n"
          ],
          "name": "stdout"
        }
      ]
    },
    {
      "cell_type": "code",
      "metadata": {
        "id": "ozOToatKzud9",
        "outputId": "cd8d3040-b1c7-4066-a037-6566b3beb93c",
        "colab": {
          "base_uri": "https://localhost:8080/",
          "height": 34
        }
      },
      "source": [
        "# Performance de classificação\n",
        "# Usa-se acurracia quando há equilibrio entre as classes\n",
        "accuracy = regr.score(x_test.iloc[:, x_test.columns != \"TimeStamp\"], y_test.iloc[:, y_test.columns != \"TimeStamp\"])\n",
        "print(accuracy*100,'%')"
      ],
      "execution_count": 18,
      "outputs": [
        {
          "output_type": "stream",
          "text": [
            "72.01796155901454 %\n"
          ],
          "name": "stdout"
        }
      ]
    },
    {
      "cell_type": "code",
      "metadata": {
        "id": "JQWQSB2U0gmZ"
      },
      "source": [
        "# Utilizando KNN, para classificação. Usado para teste de classificação.\n",
        "import sklearn\n",
        "knn = KNeighborsClassifier(n_neighbors=5) #knn = KNeighborsClassifier(n_neighbors=3)\n",
        "y_train = np.ravel(y_train.iloc[:, y_train.columns != \"TimeStamp\"])\n",
        "y_train = y_train.astype(int)\n",
        "\n",
        "y_test = y_test.iloc[:, y_test.columns != \"TimeStamp\"]\n",
        "y_test = y_test.astype(int)\n",
        "\n",
        "# Treinando KNN\n",
        "knn.fit(x_train.iloc[:, x_train.columns != \"TimeStamp\"], y_train)\n",
        "y_pred = knn.predict(x_test.iloc[:, x_test.columns != \"TimeStamp\"])"
      ],
      "execution_count": 19,
      "outputs": []
    },
    {
      "cell_type": "code",
      "metadata": {
        "id": "r3C6xOlR09QO",
        "outputId": "9ccecc9a-26ea-41d0-958e-1be7ec8a492f",
        "colab": {
          "base_uri": "https://localhost:8080/",
          "height": 34
        }
      },
      "source": [
        "# Quanto o KNN foi bom ? Imprimindo a acurácia.\n",
        "print(\"KNN: Accuracy of the Classifier C = %.3f \" % (sklearn.metrics.accuracy_score(y_test, y_pred)*100))"
      ],
      "execution_count": 20,
      "outputs": [
        {
          "output_type": "stream",
          "text": [
            "KNN: Accuracy of the Classifier C = 50.370 \n"
          ],
          "name": "stdout"
        }
      ]
    },
    {
      "cell_type": "code",
      "metadata": {
        "id": "Hq6YfZlJ4KLn",
        "outputId": "096e325b-9811-4beb-9232-9ceafd59a2f1",
        "colab": {
          "base_uri": "https://localhost:8080/",
          "height": 34
        }
      },
      "source": [
        "# Classificação com árvore de decisão.\n",
        "from sklearn import tree\n",
        "clf = tree.DecisionTreeClassifier()\n",
        "clf = clf.fit(x_train.iloc[:, x_train.columns != \"TimeStamp\"], y_train)\n",
        "y_pred = clf.predict(x_test.iloc[:, x_train.columns != \"TimeStamp\"])\n",
        "score = accuracy_score(y_test, y_pred)\n",
        "\n",
        "print(\"Decision Tree Classification Performance: \"+str(score*100))"
      ],
      "execution_count": 21,
      "outputs": [
        {
          "output_type": "stream",
          "text": [
            "Decision Tree Classification Performance: 46.85185185185185\n"
          ],
          "name": "stdout"
        }
      ]
    },
    {
      "cell_type": "code",
      "metadata": {
        "id": "CsucbrFL4hdr"
      },
      "source": [
        ""
      ],
      "execution_count": 21,
      "outputs": []
    },
    {
      "cell_type": "markdown",
      "metadata": {
        "id": "gHFoHzBB8Sr0"
      },
      "source": [
        "TAREFA: O cursista deverá entregar um arquivo Google Colaboratory contendo a implementação dos classificadores apresentados pelos ministrantes e propor ao final (de forma textual) melhorias para os algoritmos (apresentados pelos ministrantes) com objetivo de aprimorar a performance da classificação.\n",
        "\n",
        "\n",
        "R: Como alternativa para a melhora de perfomance do algoritmo creio que seria viável, a diminuição das bibliotecas utilizadas assim como o número de atributos dedicados ao algoritmo. Além disso, poderia acrescentar porcentagem de treino para cerca de 80% e a diminuição da porcentagem de teste para 20%, tais como possível melhoria. "
      ]
    }
  ]
}